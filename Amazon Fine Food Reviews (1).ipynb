{
 "cells": [
  {
   "cell_type": "code",
   "execution_count": 3,
   "id": "ceb628d4",
   "metadata": {},
   "outputs": [],
   "source": [
    "%matplotlib inline\n",
    "import warnings\n",
    "warnings.filterwarnings(\"ignore\")\n",
    "\n",
    "\n",
    "import pandas as pd\n",
    "import numpy as np\n",
    "import nltk\n",
    "import string\n",
    "import matplotlib.pyplot as plt\n",
    "import seaborn as sns\n",
    "from sklearn.feature_extraction.text import TfidfTransformer\n",
    "from sklearn.feature_extraction.text import TfidfVectorizer\n",
    "\n",
    "from sklearn.feature_extraction.text import CountVectorizer\n",
    "from sklearn.metrics import confusion_matrix\n",
    "from sklearn import metrics\n",
    "from sklearn.metrics import roc_curve, auc\n",
    "from nltk.stem.porter import PorterStemmer\n",
    "\n",
    "from bs4 import BeautifulSoup\n",
    "import re\n",
    "import string\n",
    "from nltk.corpus import stopwords\n",
    "from nltk.stem import PorterStemmer\n",
    "\n",
    "from nltk.stem.wordnet import WordNetLemmatizer\n",
    "\n",
    "from gensim.models import Word2Vec\n",
    "from gensim.models import KeyedVectors\n",
    "import pickle\n",
    "import seaborn as sns\n",
    "from tqdm import tqdm\n",
    "import os"
   ]
  },
  {
   "cell_type": "code",
   "execution_count": 4,
   "id": "24909969",
   "metadata": {},
   "outputs": [],
   "source": [
    "data=pd.read_csv('Reviews.csv')"
   ]
  },
  {
   "cell_type": "code",
   "execution_count": 5,
   "id": "d75f5dcb",
   "metadata": {},
   "outputs": [
    {
     "data": {
      "text/html": [
       "<div>\n",
       "<style scoped>\n",
       "    .dataframe tbody tr th:only-of-type {\n",
       "        vertical-align: middle;\n",
       "    }\n",
       "\n",
       "    .dataframe tbody tr th {\n",
       "        vertical-align: top;\n",
       "    }\n",
       "\n",
       "    .dataframe thead th {\n",
       "        text-align: right;\n",
       "    }\n",
       "</style>\n",
       "<table border=\"1\" class=\"dataframe\">\n",
       "  <thead>\n",
       "    <tr style=\"text-align: right;\">\n",
       "      <th></th>\n",
       "      <th>Id</th>\n",
       "      <th>ProductId</th>\n",
       "      <th>UserId</th>\n",
       "      <th>ProfileName</th>\n",
       "      <th>HelpfulnessNumerator</th>\n",
       "      <th>HelpfulnessDenominator</th>\n",
       "      <th>Score</th>\n",
       "      <th>Time</th>\n",
       "      <th>Summary</th>\n",
       "      <th>Text</th>\n",
       "    </tr>\n",
       "  </thead>\n",
       "  <tbody>\n",
       "    <tr>\n",
       "      <th>0</th>\n",
       "      <td>1</td>\n",
       "      <td>B001E4KFG0</td>\n",
       "      <td>A3SGXH7AUHU8GW</td>\n",
       "      <td>delmartian</td>\n",
       "      <td>1</td>\n",
       "      <td>1</td>\n",
       "      <td>5</td>\n",
       "      <td>1303862400</td>\n",
       "      <td>Good Quality Dog Food</td>\n",
       "      <td>I have bought several of the Vitality canned d...</td>\n",
       "    </tr>\n",
       "    <tr>\n",
       "      <th>1</th>\n",
       "      <td>2</td>\n",
       "      <td>B00813GRG4</td>\n",
       "      <td>A1D87F6ZCVE5NK</td>\n",
       "      <td>dll pa</td>\n",
       "      <td>0</td>\n",
       "      <td>0</td>\n",
       "      <td>1</td>\n",
       "      <td>1346976000</td>\n",
       "      <td>Not as Advertised</td>\n",
       "      <td>Product arrived labeled as Jumbo Salted Peanut...</td>\n",
       "    </tr>\n",
       "    <tr>\n",
       "      <th>2</th>\n",
       "      <td>3</td>\n",
       "      <td>B000LQOCH0</td>\n",
       "      <td>ABXLMWJIXXAIN</td>\n",
       "      <td>Natalia Corres \"Natalia Corres\"</td>\n",
       "      <td>1</td>\n",
       "      <td>1</td>\n",
       "      <td>4</td>\n",
       "      <td>1219017600</td>\n",
       "      <td>\"Delight\" says it all</td>\n",
       "      <td>This is a confection that has been around a fe...</td>\n",
       "    </tr>\n",
       "    <tr>\n",
       "      <th>3</th>\n",
       "      <td>4</td>\n",
       "      <td>B000UA0QIQ</td>\n",
       "      <td>A395BORC6FGVXV</td>\n",
       "      <td>Karl</td>\n",
       "      <td>3</td>\n",
       "      <td>3</td>\n",
       "      <td>2</td>\n",
       "      <td>1307923200</td>\n",
       "      <td>Cough Medicine</td>\n",
       "      <td>If you are looking for the secret ingredient i...</td>\n",
       "    </tr>\n",
       "    <tr>\n",
       "      <th>4</th>\n",
       "      <td>5</td>\n",
       "      <td>B006K2ZZ7K</td>\n",
       "      <td>A1UQRSCLF8GW1T</td>\n",
       "      <td>Michael D. Bigham \"M. Wassir\"</td>\n",
       "      <td>0</td>\n",
       "      <td>0</td>\n",
       "      <td>5</td>\n",
       "      <td>1350777600</td>\n",
       "      <td>Great taffy</td>\n",
       "      <td>Great taffy at a great price.  There was a wid...</td>\n",
       "    </tr>\n",
       "  </tbody>\n",
       "</table>\n",
       "</div>"
      ],
      "text/plain": [
       "   Id   ProductId          UserId                      ProfileName  \\\n",
       "0   1  B001E4KFG0  A3SGXH7AUHU8GW                       delmartian   \n",
       "1   2  B00813GRG4  A1D87F6ZCVE5NK                           dll pa   \n",
       "2   3  B000LQOCH0   ABXLMWJIXXAIN  Natalia Corres \"Natalia Corres\"   \n",
       "3   4  B000UA0QIQ  A395BORC6FGVXV                             Karl   \n",
       "4   5  B006K2ZZ7K  A1UQRSCLF8GW1T    Michael D. Bigham \"M. Wassir\"   \n",
       "\n",
       "   HelpfulnessNumerator  HelpfulnessDenominator  Score        Time  \\\n",
       "0                     1                       1      5  1303862400   \n",
       "1                     0                       0      1  1346976000   \n",
       "2                     1                       1      4  1219017600   \n",
       "3                     3                       3      2  1307923200   \n",
       "4                     0                       0      5  1350777600   \n",
       "\n",
       "                 Summary                                               Text  \n",
       "0  Good Quality Dog Food  I have bought several of the Vitality canned d...  \n",
       "1      Not as Advertised  Product arrived labeled as Jumbo Salted Peanut...  \n",
       "2  \"Delight\" says it all  This is a confection that has been around a fe...  \n",
       "3         Cough Medicine  If you are looking for the secret ingredient i...  \n",
       "4            Great taffy  Great taffy at a great price.  There was a wid...  "
      ]
     },
     "execution_count": 5,
     "metadata": {},
     "output_type": "execute_result"
    }
   ],
   "source": [
    "data.head()"
   ]
  },
  {
   "cell_type": "code",
   "execution_count": 6,
   "id": "7f83cf0d",
   "metadata": {},
   "outputs": [
    {
     "name": "stdout",
     "output_type": "stream",
     "text": [
      "<class 'pandas.core.frame.DataFrame'>\n",
      "RangeIndex: 568454 entries, 0 to 568453\n",
      "Data columns (total 10 columns):\n",
      " #   Column                  Non-Null Count   Dtype \n",
      "---  ------                  --------------   ----- \n",
      " 0   Id                      568454 non-null  int64 \n",
      " 1   ProductId               568454 non-null  object\n",
      " 2   UserId                  568454 non-null  object\n",
      " 3   ProfileName             568428 non-null  object\n",
      " 4   HelpfulnessNumerator    568454 non-null  int64 \n",
      " 5   HelpfulnessDenominator  568454 non-null  int64 \n",
      " 6   Score                   568454 non-null  int64 \n",
      " 7   Time                    568454 non-null  int64 \n",
      " 8   Summary                 568427 non-null  object\n",
      " 9   Text                    568454 non-null  object\n",
      "dtypes: int64(5), object(5)\n",
      "memory usage: 43.4+ MB\n"
     ]
    }
   ],
   "source": [
    "data.info()"
   ]
  },
  {
   "cell_type": "code",
   "execution_count": 7,
   "id": "be1db8e1",
   "metadata": {},
   "outputs": [
    {
     "data": {
      "text/plain": [
       "Id                         0\n",
       "ProductId                  0\n",
       "UserId                     0\n",
       "ProfileName               26\n",
       "HelpfulnessNumerator       0\n",
       "HelpfulnessDenominator     0\n",
       "Score                      0\n",
       "Time                       0\n",
       "Summary                   27\n",
       "Text                       0\n",
       "dtype: int64"
      ]
     },
     "execution_count": 7,
     "metadata": {},
     "output_type": "execute_result"
    }
   ],
   "source": [
    "data.isnull().sum()"
   ]
  },
  {
   "cell_type": "code",
   "execution_count": 8,
   "id": "e30413da",
   "metadata": {},
   "outputs": [],
   "source": [
    "data.dropna(inplace=True)"
   ]
  },
  {
   "cell_type": "code",
   "execution_count": 9,
   "id": "af66ca94",
   "metadata": {},
   "outputs": [
    {
     "data": {
      "text/plain": [
       "Id                        0\n",
       "ProductId                 0\n",
       "UserId                    0\n",
       "ProfileName               0\n",
       "HelpfulnessNumerator      0\n",
       "HelpfulnessDenominator    0\n",
       "Score                     0\n",
       "Time                      0\n",
       "Summary                   0\n",
       "Text                      0\n",
       "dtype: int64"
      ]
     },
     "execution_count": 9,
     "metadata": {},
     "output_type": "execute_result"
    }
   ],
   "source": [
    "data.isnull().sum()"
   ]
  },
  {
   "cell_type": "code",
   "execution_count": 10,
   "id": "9998dfef",
   "metadata": {},
   "outputs": [
    {
     "data": {
      "text/plain": [
       "False"
      ]
     },
     "execution_count": 10,
     "metadata": {},
     "output_type": "execute_result"
    }
   ],
   "source": [
    "data.duplicated().any()"
   ]
  },
  {
   "cell_type": "code",
   "execution_count": 11,
   "id": "e77fd86f",
   "metadata": {},
   "outputs": [
    {
     "data": {
      "text/plain": [
       "(232376, 10)"
      ]
     },
     "execution_count": 11,
     "metadata": {},
     "output_type": "execute_result"
    }
   ],
   "source": [
    "few=data[data.duplicated(subset=[\"UserId\",\"ProfileName\",\"Time\",\"Text\"],keep=False)]\n",
    "few.shape"
   ]
  },
  {
   "cell_type": "code",
   "execution_count": 12,
   "id": "87509df0",
   "metadata": {},
   "outputs": [
    {
     "data": {
      "text/html": [
       "<div>\n",
       "<style scoped>\n",
       "    .dataframe tbody tr th:only-of-type {\n",
       "        vertical-align: middle;\n",
       "    }\n",
       "\n",
       "    .dataframe tbody tr th {\n",
       "        vertical-align: top;\n",
       "    }\n",
       "\n",
       "    .dataframe thead th {\n",
       "        text-align: right;\n",
       "    }\n",
       "</style>\n",
       "<table border=\"1\" class=\"dataframe\">\n",
       "  <thead>\n",
       "    <tr style=\"text-align: right;\">\n",
       "      <th></th>\n",
       "      <th>Id</th>\n",
       "      <th>ProductId</th>\n",
       "      <th>UserId</th>\n",
       "      <th>ProfileName</th>\n",
       "      <th>HelpfulnessNumerator</th>\n",
       "      <th>HelpfulnessDenominator</th>\n",
       "      <th>Score</th>\n",
       "      <th>Time</th>\n",
       "      <th>Summary</th>\n",
       "      <th>Text</th>\n",
       "    </tr>\n",
       "  </thead>\n",
       "  <tbody>\n",
       "    <tr>\n",
       "      <th>3</th>\n",
       "      <td>4</td>\n",
       "      <td>B000UA0QIQ</td>\n",
       "      <td>A395BORC6FGVXV</td>\n",
       "      <td>Karl</td>\n",
       "      <td>3</td>\n",
       "      <td>3</td>\n",
       "      <td>2</td>\n",
       "      <td>1307923200</td>\n",
       "      <td>Cough Medicine</td>\n",
       "      <td>If you are looking for the secret ingredient i...</td>\n",
       "    </tr>\n",
       "    <tr>\n",
       "      <th>136303</th>\n",
       "      <td>136304</td>\n",
       "      <td>B002Y7526Y</td>\n",
       "      <td>A395BORC6FGVXV</td>\n",
       "      <td>Karl</td>\n",
       "      <td>3</td>\n",
       "      <td>3</td>\n",
       "      <td>2</td>\n",
       "      <td>1307923200</td>\n",
       "      <td>Cough Medicine</td>\n",
       "      <td>If you are looking for the secret ingredient i...</td>\n",
       "    </tr>\n",
       "    <tr>\n",
       "      <th>544172</th>\n",
       "      <td>544173</td>\n",
       "      <td>B000U9WZ54</td>\n",
       "      <td>A395BORC6FGVXV</td>\n",
       "      <td>Karl</td>\n",
       "      <td>3</td>\n",
       "      <td>3</td>\n",
       "      <td>2</td>\n",
       "      <td>1307923200</td>\n",
       "      <td>Cough Medicine</td>\n",
       "      <td>If you are looking for the secret ingredient i...</td>\n",
       "    </tr>\n",
       "  </tbody>\n",
       "</table>\n",
       "</div>"
      ],
      "text/plain": [
       "            Id   ProductId          UserId ProfileName  HelpfulnessNumerator  \\\n",
       "3            4  B000UA0QIQ  A395BORC6FGVXV        Karl                     3   \n",
       "136303  136304  B002Y7526Y  A395BORC6FGVXV        Karl                     3   \n",
       "544172  544173  B000U9WZ54  A395BORC6FGVXV        Karl                     3   \n",
       "\n",
       "        HelpfulnessDenominator  Score        Time         Summary  \\\n",
       "3                            3      2  1307923200  Cough Medicine   \n",
       "136303                       3      2  1307923200  Cough Medicine   \n",
       "544172                       3      2  1307923200  Cough Medicine   \n",
       "\n",
       "                                                     Text  \n",
       "3       If you are looking for the secret ingredient i...  \n",
       "136303  If you are looking for the secret ingredient i...  \n",
       "544172  If you are looking for the secret ingredient i...  "
      ]
     },
     "execution_count": 12,
     "metadata": {},
     "output_type": "execute_result"
    }
   ],
   "source": [
    "few[few['UserId']=='A395BORC6FGVXV']"
   ]
  },
  {
   "cell_type": "code",
   "execution_count": 13,
   "id": "bcf5fddb",
   "metadata": {},
   "outputs": [
    {
     "data": {
      "text/plain": [
       "(393914, 10)"
      ]
     },
     "execution_count": 13,
     "metadata": {},
     "output_type": "execute_result"
    }
   ],
   "source": [
    "data1 = data.drop_duplicates(subset=['UserId','ProfileName','Time','Text'],keep='first',inplace=False)\n",
    "data1.shape"
   ]
  },
  {
   "cell_type": "code",
   "execution_count": 14,
   "id": "e9320020",
   "metadata": {},
   "outputs": [
    {
     "data": {
      "text/html": [
       "<div>\n",
       "<style scoped>\n",
       "    .dataframe tbody tr th:only-of-type {\n",
       "        vertical-align: middle;\n",
       "    }\n",
       "\n",
       "    .dataframe tbody tr th {\n",
       "        vertical-align: top;\n",
       "    }\n",
       "\n",
       "    .dataframe thead th {\n",
       "        text-align: right;\n",
       "    }\n",
       "</style>\n",
       "<table border=\"1\" class=\"dataframe\">\n",
       "  <thead>\n",
       "    <tr style=\"text-align: right;\">\n",
       "      <th></th>\n",
       "      <th>Id</th>\n",
       "      <th>ProductId</th>\n",
       "      <th>UserId</th>\n",
       "      <th>ProfileName</th>\n",
       "      <th>HelpfulnessNumerator</th>\n",
       "      <th>HelpfulnessDenominator</th>\n",
       "      <th>Score</th>\n",
       "      <th>Time</th>\n",
       "      <th>Summary</th>\n",
       "      <th>Text</th>\n",
       "    </tr>\n",
       "  </thead>\n",
       "  <tbody>\n",
       "    <tr>\n",
       "      <th>44736</th>\n",
       "      <td>44737</td>\n",
       "      <td>B001EQ55RW</td>\n",
       "      <td>A2V0I904FH7ABY</td>\n",
       "      <td>Ram</td>\n",
       "      <td>3</td>\n",
       "      <td>2</td>\n",
       "      <td>4</td>\n",
       "      <td>1212883200</td>\n",
       "      <td>Pure cocoa taste with crunchy almonds inside</td>\n",
       "      <td>It was almost a 'love at first bite' - the per...</td>\n",
       "    </tr>\n",
       "    <tr>\n",
       "      <th>64421</th>\n",
       "      <td>64422</td>\n",
       "      <td>B000MIDROQ</td>\n",
       "      <td>A161DK06JJMCYF</td>\n",
       "      <td>J. E. Stephens \"Jeanne\"</td>\n",
       "      <td>3</td>\n",
       "      <td>1</td>\n",
       "      <td>5</td>\n",
       "      <td>1224892800</td>\n",
       "      <td>Bought This for My Son at College</td>\n",
       "      <td>My son loves spaghetti so I didn't hesitate or...</td>\n",
       "    </tr>\n",
       "  </tbody>\n",
       "</table>\n",
       "</div>"
      ],
      "text/plain": [
       "          Id   ProductId          UserId              ProfileName  \\\n",
       "44736  44737  B001EQ55RW  A2V0I904FH7ABY                      Ram   \n",
       "64421  64422  B000MIDROQ  A161DK06JJMCYF  J. E. Stephens \"Jeanne\"   \n",
       "\n",
       "       HelpfulnessNumerator  HelpfulnessDenominator  Score        Time  \\\n",
       "44736                     3                       2      4  1212883200   \n",
       "64421                     3                       1      5  1224892800   \n",
       "\n",
       "                                            Summary  \\\n",
       "44736  Pure cocoa taste with crunchy almonds inside   \n",
       "64421             Bought This for My Son at College   \n",
       "\n",
       "                                                    Text  \n",
       "44736  It was almost a 'love at first bite' - the per...  \n",
       "64421  My son loves spaghetti so I didn't hesitate or...  "
      ]
     },
     "execution_count": 14,
     "metadata": {},
     "output_type": "execute_result"
    }
   ],
   "source": [
    "data1[data1['HelpfulnessNumerator'] > data1['HelpfulnessDenominator']]"
   ]
  },
  {
   "cell_type": "code",
   "execution_count": 15,
   "id": "18e398e7",
   "metadata": {},
   "outputs": [
    {
     "data": {
      "text/plain": [
       "(393912, 10)"
      ]
     },
     "execution_count": 15,
     "metadata": {},
     "output_type": "execute_result"
    }
   ],
   "source": [
    "#Removing them\n",
    "data1 = data1[data1['HelpfulnessNumerator'] <= data1['HelpfulnessDenominator']]\n",
    "data1.shape"
   ]
  },
  {
   "cell_type": "code",
   "execution_count": 16,
   "id": "44d5c82c",
   "metadata": {},
   "outputs": [
    {
     "data": {
      "text/plain": [
       "Index(['Id', 'ProductId', 'UserId', 'ProfileName', 'HelpfulnessNumerator',\n",
       "       'HelpfulnessDenominator', 'Score', 'Time', 'Summary', 'Text'],\n",
       "      dtype='object')"
      ]
     },
     "execution_count": 16,
     "metadata": {},
     "output_type": "execute_result"
    }
   ],
   "source": [
    "data1.columns"
   ]
  },
  {
   "cell_type": "code",
   "execution_count": 17,
   "id": "33d69e54",
   "metadata": {},
   "outputs": [
    {
     "data": {
      "image/png": "[encoded data removed]",
      "text/plain": [
       "<Figure size 640x480 with 1 Axes>"
      ]
     },
     "metadata": {},
     "output_type": "display_data"
    }
   ],
   "source": [
    "data1['Score'].value_counts().plot.bar()\n",
    "plt.xlabel('Score')\n",
    "plt.ylabel('Count')\n",
    "plt.title('highest number of scores for each review')\n",
    "plt.show()"
   ]
  },
  {
   "cell_type": "code",
   "execution_count": 18,
   "id": "5b1dc1ae",
   "metadata": {},
   "outputs": [],
   "source": [
    "data2=data1.copy()"
   ]
  },
  {
   "cell_type": "code",
   "execution_count": 19,
   "id": "c894438d",
   "metadata": {},
   "outputs": [
    {
     "data": {
      "text/plain": [
       "0        1999-10-08\n",
       "1        1999-10-25\n",
       "2        1999-12-02\n",
       "3        1999-12-06\n",
       "4        2000-01-03\n",
       "            ...    \n",
       "393907   2012-10-26\n",
       "393908   2012-10-26\n",
       "393909   2012-10-26\n",
       "393910   2012-10-26\n",
       "393911   2012-10-26\n",
       "Name: Time, Length: 393912, dtype: datetime64[ns]"
      ]
     },
     "execution_count": 19,
     "metadata": {},
     "output_type": "execute_result"
    }
   ],
   "source": [
    "data2['Time'] = pd.to_datetime(data2['Time'],unit='s')\n",
    "data2 = data2.sort_values('Time')\n",
    "data2 = data2.reset_index(drop=True)\n",
    "data2['Time']"
   ]
  },
  {
   "cell_type": "code",
   "execution_count": 20,
   "id": "08de36a6",
   "metadata": {},
   "outputs": [
    {
     "data": {
      "image/png": "[encoded data removed]",
      "text/plain": [
       "<Figure size 640x480 with 1 Axes>"
      ]
     },
     "metadata": {},
     "output_type": "display_data"
    }
   ],
   "source": [
    "sns.histplot(data2['Time'],bins=50)\n",
    "plt.ylabel('Count')\n",
    "plt.xlabel('Year')\n",
    "plt.title('Histogram of number of Reviews over time')\n",
    "plt.show()"
   ]
  },
  {
   "cell_type": "code",
   "execution_count": 21,
   "id": "78673504",
   "metadata": {},
   "outputs": [
    {
     "data": {
      "text/plain": [
       "(364145, 10)"
      ]
     },
     "execution_count": 21,
     "metadata": {},
     "output_type": "execute_result"
    }
   ],
   "source": [
    "data1=data1[data1['Score']!=3]\n",
    "data1.shape"
   ]
  },
  {
   "cell_type": "code",
   "execution_count": 22,
   "id": "76dcf33d",
   "metadata": {},
   "outputs": [],
   "source": [
    "def reviews(x):\n",
    "    if x>3:\n",
    "        return 1\n",
    "    return 0\n",
    "\n",
    "score_upd=data1['Score']\n",
    "t=score_upd.map(reviews)\n",
    "data1['Score']=t"
   ]
  },
  {
   "cell_type": "code",
   "execution_count": 23,
   "id": "1d950ddd",
   "metadata": {},
   "outputs": [
    {
     "data": {
      "text/html": [
       "<div>\n",
       "<style scoped>\n",
       "    .dataframe tbody tr th:only-of-type {\n",
       "        vertical-align: middle;\n",
       "    }\n",
       "\n",
       "    .dataframe tbody tr th {\n",
       "        vertical-align: top;\n",
       "    }\n",
       "\n",
       "    .dataframe thead th {\n",
       "        text-align: right;\n",
       "    }\n",
       "</style>\n",
       "<table border=\"1\" class=\"dataframe\">\n",
       "  <thead>\n",
       "    <tr style=\"text-align: right;\">\n",
       "      <th></th>\n",
       "      <th>Id</th>\n",
       "      <th>ProductId</th>\n",
       "      <th>UserId</th>\n",
       "      <th>ProfileName</th>\n",
       "      <th>HelpfulnessNumerator</th>\n",
       "      <th>HelpfulnessDenominator</th>\n",
       "      <th>Score</th>\n",
       "      <th>Time</th>\n",
       "      <th>Summary</th>\n",
       "      <th>Text</th>\n",
       "    </tr>\n",
       "  </thead>\n",
       "  <tbody>\n",
       "    <tr>\n",
       "      <th>0</th>\n",
       "      <td>1</td>\n",
       "      <td>B001E4KFG0</td>\n",
       "      <td>A3SGXH7AUHU8GW</td>\n",
       "      <td>delmartian</td>\n",
       "      <td>1</td>\n",
       "      <td>1</td>\n",
       "      <td>1</td>\n",
       "      <td>1303862400</td>\n",
       "      <td>Good Quality Dog Food</td>\n",
       "      <td>I have bought several of the Vitality canned d...</td>\n",
       "    </tr>\n",
       "    <tr>\n",
       "      <th>1</th>\n",
       "      <td>2</td>\n",
       "      <td>B00813GRG4</td>\n",
       "      <td>A1D87F6ZCVE5NK</td>\n",
       "      <td>dll pa</td>\n",
       "      <td>0</td>\n",
       "      <td>0</td>\n",
       "      <td>0</td>\n",
       "      <td>1346976000</td>\n",
       "      <td>Not as Advertised</td>\n",
       "      <td>Product arrived labeled as Jumbo Salted Peanut...</td>\n",
       "    </tr>\n",
       "    <tr>\n",
       "      <th>2</th>\n",
       "      <td>3</td>\n",
       "      <td>B000LQOCH0</td>\n",
       "      <td>ABXLMWJIXXAIN</td>\n",
       "      <td>Natalia Corres \"Natalia Corres\"</td>\n",
       "      <td>1</td>\n",
       "      <td>1</td>\n",
       "      <td>1</td>\n",
       "      <td>1219017600</td>\n",
       "      <td>\"Delight\" says it all</td>\n",
       "      <td>This is a confection that has been around a fe...</td>\n",
       "    </tr>\n",
       "    <tr>\n",
       "      <th>3</th>\n",
       "      <td>4</td>\n",
       "      <td>B000UA0QIQ</td>\n",
       "      <td>A395BORC6FGVXV</td>\n",
       "      <td>Karl</td>\n",
       "      <td>3</td>\n",
       "      <td>3</td>\n",
       "      <td>0</td>\n",
       "      <td>1307923200</td>\n",
       "      <td>Cough Medicine</td>\n",
       "      <td>If you are looking for the secret ingredient i...</td>\n",
       "    </tr>\n",
       "    <tr>\n",
       "      <th>4</th>\n",
       "      <td>5</td>\n",
       "      <td>B006K2ZZ7K</td>\n",
       "      <td>A1UQRSCLF8GW1T</td>\n",
       "      <td>Michael D. Bigham \"M. Wassir\"</td>\n",
       "      <td>0</td>\n",
       "      <td>0</td>\n",
       "      <td>1</td>\n",
       "      <td>1350777600</td>\n",
       "      <td>Great taffy</td>\n",
       "      <td>Great taffy at a great price.  There was a wid...</td>\n",
       "    </tr>\n",
       "  </tbody>\n",
       "</table>\n",
       "</div>"
      ],
      "text/plain": [
       "   Id   ProductId          UserId                      ProfileName  \\\n",
       "0   1  B001E4KFG0  A3SGXH7AUHU8GW                       delmartian   \n",
       "1   2  B00813GRG4  A1D87F6ZCVE5NK                           dll pa   \n",
       "2   3  B000LQOCH0   ABXLMWJIXXAIN  Natalia Corres \"Natalia Corres\"   \n",
       "3   4  B000UA0QIQ  A395BORC6FGVXV                             Karl   \n",
       "4   5  B006K2ZZ7K  A1UQRSCLF8GW1T    Michael D. Bigham \"M. Wassir\"   \n",
       "\n",
       "   HelpfulnessNumerator  HelpfulnessDenominator  Score        Time  \\\n",
       "0                     1                       1      1  1303862400   \n",
       "1                     0                       0      0  1346976000   \n",
       "2                     1                       1      1  1219017600   \n",
       "3                     3                       3      0  1307923200   \n",
       "4                     0                       0      1  1350777600   \n",
       "\n",
       "                 Summary                                               Text  \n",
       "0  Good Quality Dog Food  I have bought several of the Vitality canned d...  \n",
       "1      Not as Advertised  Product arrived labeled as Jumbo Salted Peanut...  \n",
       "2  \"Delight\" says it all  This is a confection that has been around a fe...  \n",
       "3         Cough Medicine  If you are looking for the secret ingredient i...  \n",
       "4            Great taffy  Great taffy at a great price.  There was a wid...  "
      ]
     },
     "execution_count": 23,
     "metadata": {},
     "output_type": "execute_result"
    }
   ],
   "source": [
    "data1.head()"
   ]
  },
  {
   "cell_type": "code",
   "execution_count": 24,
   "id": "ca59d70d",
   "metadata": {},
   "outputs": [
    {
     "data": {
      "image/png": "[encoded data removed]",
      "text/plain": [
       "<Figure size 640x480 with 1 Axes>"
      ]
     },
     "metadata": {},
     "output_type": "display_data"
    }
   ],
   "source": [
    "data1['Score'].value_counts().plot.bar()\n",
    "plt.xlabel('Score')\n",
    "plt.ylabel('Count')\n",
    "plt.title('Number of positive and negative reviews')\n",
    "plt.show()"
   ]
  },
  {
   "cell_type": "code",
   "execution_count": 25,
   "id": "e4042a46",
   "metadata": {},
   "outputs": [
    {
     "data": {
      "text/plain": [
       "Score\n",
       "1    307042\n",
       "0     57103\n",
       "Name: count, dtype: int64"
      ]
     },
     "execution_count": 25,
     "metadata": {},
     "output_type": "execute_result"
    }
   ],
   "source": [
    "data1['Score'].value_counts()"
   ]
  },
  {
   "cell_type": "code",
   "execution_count": 26,
   "id": "c1c21448",
   "metadata": {},
   "outputs": [
    {
     "data": {
      "text/plain": [
       "Score\n",
       "1    307042\n",
       "0     57103\n",
       "Name: count, dtype: int64"
      ]
     },
     "execution_count": 26,
     "metadata": {},
     "output_type": "execute_result"
    }
   ],
   "source": [
    "data1['Score'].value_counts()"
   ]
  },
  {
   "cell_type": "code",
   "execution_count": 27,
   "id": "30ecd1d8",
   "metadata": {},
   "outputs": [
    {
     "data": {
      "image/png": "[encoded data removed]",
      "text/plain": [
       "<Figure size 640x480 with 1 Axes>"
      ]
     },
     "metadata": {},
     "output_type": "display_data"
    }
   ],
   "source": [
    "count = data1[\"UserId\"].value_counts().nlargest(500)\n",
    "sns.histplot(count, bins=50)\n",
    "plt.ylabel('Count')\n",
    "plt.xlabel('Reviews Per User')\n",
    "plt.title('Histogram of Number of Reviews from Top 500 Reviewers')\n",
    "plt.show()"
   ]
  },
  {
   "cell_type": "code",
   "execution_count": 28,
   "id": "f2f8a441",
   "metadata": {},
   "outputs": [
    {
     "data": {
      "image/png": "[encoded data removed]",
      "text/plain": [
       "<Figure size 640x480 with 1 Axes>"
      ]
     },
     "metadata": {},
     "output_type": "display_data"
    }
   ],
   "source": [
    "#Product popularity\n",
    "top_500_product_count = data2[\"ProductId\"].value_counts().nlargest(500)\n",
    "sns.histplot(top_500_product_count, bins=50)\n",
    "plt.ylabel('Count')\n",
    "plt.xlabel('Reviews Per Product')\n",
    "plt.title('Histogram of Number of Reviews from Top 500 Reviewed Products')\n",
    "plt.show()"
   ]
  },
  {
   "cell_type": "markdown",
   "id": "d16d8705",
   "metadata": {},
   "source": [
    "# Preprocessing Text data"
   ]
  },
  {
   "cell_type": "markdown",
   "id": "743a53f8",
   "metadata": {},
   "source": [
    "Hence in the Preprocessing phase we do the following in the order below:-\n",
    "\n",
    "1.Begin by removing the html tags\n",
    "\n",
    "2.Remove any punctuations or limited set of special characters like , or . or # etc.\n",
    "\n",
    "3.Check if the word is made up of english letters and is not alpha-numeric\n",
    "\n",
    "4.Check to see if the length of the word is greater than 2 (as it was researched that there is no adjective in 2-letters)\n",
    "\n",
    "5.Convert the word to lowercase\n",
    "\n",
    "6.Remove Stopwords"
   ]
  },
  {
   "cell_type": "code",
   "execution_count": 29,
   "id": "14eada09",
   "metadata": {},
   "outputs": [
    {
     "data": {
      "text/html": [
       "<div>\n",
       "<style scoped>\n",
       "    .dataframe tbody tr th:only-of-type {\n",
       "        vertical-align: middle;\n",
       "    }\n",
       "\n",
       "    .dataframe tbody tr th {\n",
       "        vertical-align: top;\n",
       "    }\n",
       "\n",
       "    .dataframe thead th {\n",
       "        text-align: right;\n",
       "    }\n",
       "</style>\n",
       "<table border=\"1\" class=\"dataframe\">\n",
       "  <thead>\n",
       "    <tr style=\"text-align: right;\">\n",
       "      <th></th>\n",
       "      <th>Id</th>\n",
       "      <th>ProductId</th>\n",
       "      <th>UserId</th>\n",
       "      <th>ProfileName</th>\n",
       "      <th>HelpfulnessNumerator</th>\n",
       "      <th>HelpfulnessDenominator</th>\n",
       "      <th>Score</th>\n",
       "      <th>Time</th>\n",
       "      <th>Summary</th>\n",
       "      <th>Text</th>\n",
       "    </tr>\n",
       "  </thead>\n",
       "  <tbody>\n",
       "    <tr>\n",
       "      <th>0</th>\n",
       "      <td>1</td>\n",
       "      <td>B001E4KFG0</td>\n",
       "      <td>A3SGXH7AUHU8GW</td>\n",
       "      <td>delmartian</td>\n",
       "      <td>1</td>\n",
       "      <td>1</td>\n",
       "      <td>1</td>\n",
       "      <td>1303862400</td>\n",
       "      <td>Good Quality Dog Food</td>\n",
       "      <td>I have bought several of the Vitality canned d...</td>\n",
       "    </tr>\n",
       "    <tr>\n",
       "      <th>1</th>\n",
       "      <td>2</td>\n",
       "      <td>B00813GRG4</td>\n",
       "      <td>A1D87F6ZCVE5NK</td>\n",
       "      <td>dll pa</td>\n",
       "      <td>0</td>\n",
       "      <td>0</td>\n",
       "      <td>0</td>\n",
       "      <td>1346976000</td>\n",
       "      <td>Not as Advertised</td>\n",
       "      <td>Product arrived labeled as Jumbo Salted Peanut...</td>\n",
       "    </tr>\n",
       "  </tbody>\n",
       "</table>\n",
       "</div>"
      ],
      "text/plain": [
       "   Id   ProductId          UserId ProfileName  HelpfulnessNumerator  \\\n",
       "0   1  B001E4KFG0  A3SGXH7AUHU8GW  delmartian                     1   \n",
       "1   2  B00813GRG4  A1D87F6ZCVE5NK      dll pa                     0   \n",
       "\n",
       "   HelpfulnessDenominator  Score        Time                Summary  \\\n",
       "0                       1      1  1303862400  Good Quality Dog Food   \n",
       "1                       0      0  1346976000      Not as Advertised   \n",
       "\n",
       "                                                Text  \n",
       "0  I have bought several of the Vitality canned d...  \n",
       "1  Product arrived labeled as Jumbo Salted Peanut...  "
      ]
     },
     "execution_count": 29,
     "metadata": {},
     "output_type": "execute_result"
    }
   ],
   "source": [
    "data3=data1.copy()\n",
    "data3.head(2)"
   ]
  },
  {
   "cell_type": "code",
   "execution_count": 30,
   "id": "cb4f1cee",
   "metadata": {},
   "outputs": [
    {
     "data": {
      "text/plain": [
       "(100000, 10)"
      ]
     },
     "execution_count": 30,
     "metadata": {},
     "output_type": "execute_result"
    }
   ],
   "source": [
    "data3=data3.sample(100000, random_state=100)\n",
    "data3.shape"
   ]
  },
  {
   "cell_type": "code",
   "execution_count": 31,
   "id": "d9a5ce8a",
   "metadata": {},
   "outputs": [
    {
     "name": "stderr",
     "output_type": "stream",
     "text": [
      "100%|████████████████████████████████████████████████████████████████████████| 100000/100000 [00:31<00:00, 3139.40it/s]\n"
     ]
    }
   ],
   "source": [
    "from tqdm import tqdm\n",
    "def decontracted(phrase):\n",
    "    # specific\n",
    "    phrase = re.sub(r\"won't\", \"will not\", phrase)\n",
    "    phrase = re.sub(r\"can\\'t\", \"can not\", phrase)\n",
    "\n",
    "    # general\n",
    "    phrase = re.sub(r\"n\\'t\", \" not\", phrase)\n",
    "    phrase = re.sub(r\"\\'re\", \" are\", phrase)\n",
    "    phrase = re.sub(r\"\\'s\", \" is\", phrase)\n",
    "    phrase = re.sub(r\"\\'d\", \" would\", phrase)\n",
    "    phrase = re.sub(r\"\\'ll\", \" will\", phrase)\n",
    "    phrase = re.sub(r\"\\'t\", \" not\", phrase)\n",
    "    phrase = re.sub(r\"\\'ve\", \" have\", phrase)\n",
    "    phrase = re.sub(r\"\\'m\", \" am\", phrase)\n",
    "    return phrase\n",
    "\n",
    "\n",
    "stopwords= set(['br', 'the', 'i', 'me', 'my', 'myself', 'we', 'our', 'ours', 'ourselves', 'you', \"you're\", \"you've\",\\\n",
    "            \"you'll\", \"you'd\", 'your', 'yours', 'yourself', 'yourselves', 'he', 'him', 'his', 'himself', \\\n",
    "            'she', \"she's\", 'her', 'hers', 'herself', 'it', \"it's\", 'its', 'itself', 'they', 'them', 'their',\\\n",
    "            'theirs', 'themselves', 'what', 'which', 'who', 'whom', 'this', 'that', \"that'll\", 'these', 'those', \\\n",
    "            'am', 'is', 'are', 'was', 'were', 'be', 'been', 'being', 'have', 'has', 'had', 'having', 'do', 'does', \\\n",
    "            'did', 'doing', 'a', 'an', 'the', 'and', 'but', 'if', 'or', 'because', 'as', 'until', 'while', 'of', \\\n",
    "            'at', 'by', 'for', 'with', 'about', 'against', 'between', 'into', 'through', 'during', 'before', 'after',\\\n",
    "            'above', 'below', 'to', 'from', 'up', 'down', 'in', 'out', 'on', 'off', 'over', 'under', 'again', 'further',\\\n",
    "            'then', 'once', 'here', 'there', 'when', 'where', 'why', 'how', 'all', 'any', 'both', 'each', 'few', 'more',\\\n",
    "            'most', 'other', 'some', 'such', 'only', 'own', 'same', 'so', 'than', 'too', 'very', \\\n",
    "            's', 't', 'can', 'will', 'just', 'don', \"don't\", 'should', \"should've\", 'now', 'd', 'll', 'm', 'o', 're', \\\n",
    "            've', 'y', 'ain', 'aren', \"aren't\", 'couldn', \"couldn't\", 'didn', \"didn't\", 'doesn', \"doesn't\", 'hadn',\\\n",
    "            \"hadn't\", 'hasn', \"hasn't\", 'haven', \"haven't\", 'isn', \"isn't\", 'ma', 'mightn', \"mightn't\", 'mustn',\\\n",
    "            \"mustn't\", 'needn', \"needn't\", 'shan', \"shan't\", 'shouldn', \"shouldn't\", 'wasn', \"wasn't\", 'weren', \"weren't\", \\\n",
    "            'won', \"won't\", 'wouldn', \"wouldn't\"])\n",
    "\n",
    "\n",
    "\n",
    "preprocessed_reviews = []\n",
    "# tqdm is for printing the status bar\n",
    "for sentance in tqdm(data3['Text'].values):\n",
    "    sentance = re.sub(r\"http\\S+\", \"\", sentance)\n",
    "    # removing html tags\n",
    "    sentance = BeautifulSoup(sentance, 'lxml').get_text()\n",
    "    sentance = decontracted(sentance)\n",
    "    # removing extra spaces and numbers\n",
    "    sentance = re.sub(\"\\S*\\d\\S*\", \"\", sentance).strip()\n",
    "    # removing non alphabels\n",
    "    sentance = re.sub('[^A-Za-z]+', ' ', sentance)\n",
    "    # https://gist.github.com/sebleier/554280\n",
    "    sentance = ' '.join(e.lower() for e in sentance.split() if e.lower() not in stopwords and len(e) > 2)\n",
    "    preprocessed_reviews.append(sentance.strip())"
   ]
  },
  {
   "cell_type": "code",
   "execution_count": 32,
   "id": "636ce2d2",
   "metadata": {},
   "outputs": [
    {
     "data": {
      "text/plain": [
       "(100000, 10)"
      ]
     },
     "execution_count": 32,
     "metadata": {},
     "output_type": "execute_result"
    }
   ],
   "source": [
    "data3.shape"
   ]
  },
  {
   "cell_type": "code",
   "execution_count": 33,
   "id": "30dd4f0f",
   "metadata": {},
   "outputs": [],
   "source": [
    "#combining required columns\n",
    "data3['clean_text'] = preprocessed_reviews\n",
    "data3 = data3[['Time','Text','clean_text','Score']]\n",
    "#reseting index\n",
    "data3 = data3.reset_index(drop=True)"
   ]
  },
  {
   "cell_type": "code",
   "execution_count": 34,
   "id": "4676f6e5",
   "metadata": {},
   "outputs": [
    {
     "data": {
      "text/html": [
       "<div>\n",
       "<style scoped>\n",
       "    .dataframe tbody tr th:only-of-type {\n",
       "        vertical-align: middle;\n",
       "    }\n",
       "\n",
       "    .dataframe tbody tr th {\n",
       "        vertical-align: top;\n",
       "    }\n",
       "\n",
       "    .dataframe thead th {\n",
       "        text-align: right;\n",
       "    }\n",
       "</style>\n",
       "<table border=\"1\" class=\"dataframe\">\n",
       "  <thead>\n",
       "    <tr style=\"text-align: right;\">\n",
       "      <th></th>\n",
       "      <th>Time</th>\n",
       "      <th>Text</th>\n",
       "      <th>clean_text</th>\n",
       "      <th>Score</th>\n",
       "    </tr>\n",
       "  </thead>\n",
       "  <tbody>\n",
       "    <tr>\n",
       "      <th>0</th>\n",
       "      <td>1206835200</td>\n",
       "      <td>I love this tea.  Wylers is the best peach tea...</td>\n",
       "      <td>love tea wylers best peach tea instant tea not...</td>\n",
       "      <td>1</td>\n",
       "    </tr>\n",
       "    <tr>\n",
       "      <th>1</th>\n",
       "      <td>1339632000</td>\n",
       "      <td>Very good price and excellent coffee.. Packed ...</td>\n",
       "      <td>good price excellent coffee packed perfect les...</td>\n",
       "      <td>1</td>\n",
       "    </tr>\n",
       "    <tr>\n",
       "      <th>2</th>\n",
       "      <td>1250726400</td>\n",
       "      <td>I can't believe I actually paid money for this...</td>\n",
       "      <td>not believe actually paid money stuff gritty t...</td>\n",
       "      <td>0</td>\n",
       "    </tr>\n",
       "    <tr>\n",
       "      <th>3</th>\n",
       "      <td>1333324800</td>\n",
       "      <td>So glad I met coconut oil!  Great medicinal be...</td>\n",
       "      <td>glad met coconut oil great medicinal benefits ...</td>\n",
       "      <td>1</td>\n",
       "    </tr>\n",
       "    <tr>\n",
       "      <th>4</th>\n",
       "      <td>1342137600</td>\n",
       "      <td>Roland has always been a product line i could ...</td>\n",
       "      <td>roland always product line could trust full in...</td>\n",
       "      <td>1</td>\n",
       "    </tr>\n",
       "    <tr>\n",
       "      <th>...</th>\n",
       "      <td>...</td>\n",
       "      <td>...</td>\n",
       "      <td>...</td>\n",
       "      <td>...</td>\n",
       "    </tr>\n",
       "    <tr>\n",
       "      <th>99995</th>\n",
       "      <td>1236729600</td>\n",
       "      <td>An excellent product that is in a convenient s...</td>\n",
       "      <td>excellent product convenient size provider shi...</td>\n",
       "      <td>1</td>\n",
       "    </tr>\n",
       "    <tr>\n",
       "      <th>99996</th>\n",
       "      <td>1239667200</td>\n",
       "      <td>Tiny bottles perfect for night feeding! A litt...</td>\n",
       "      <td>tiny bottles perfect night feeding little pric...</td>\n",
       "      <td>1</td>\n",
       "    </tr>\n",
       "    <tr>\n",
       "      <th>99997</th>\n",
       "      <td>1170720000</td>\n",
       "      <td>We enjoy a cup of coffee with Bailey's Irish C...</td>\n",
       "      <td>enjoy cup coffee bailey irish cream decided tr...</td>\n",
       "      <td>0</td>\n",
       "    </tr>\n",
       "    <tr>\n",
       "      <th>99998</th>\n",
       "      <td>1280102400</td>\n",
       "      <td>Happy to find this product.  Could not locate ...</td>\n",
       "      <td>happy find product could not locate grocery st...</td>\n",
       "      <td>1</td>\n",
       "    </tr>\n",
       "    <tr>\n",
       "      <th>99999</th>\n",
       "      <td>1347148800</td>\n",
       "      <td>I've been using Kretschmer Honey Crunch for a ...</td>\n",
       "      <td>using kretschmer honey crunch number years fou...</td>\n",
       "      <td>1</td>\n",
       "    </tr>\n",
       "  </tbody>\n",
       "</table>\n",
       "<p>100000 rows × 4 columns</p>\n",
       "</div>"
      ],
      "text/plain": [
       "             Time                                               Text  \\\n",
       "0      1206835200  I love this tea.  Wylers is the best peach tea...   \n",
       "1      1339632000  Very good price and excellent coffee.. Packed ...   \n",
       "2      1250726400  I can't believe I actually paid money for this...   \n",
       "3      1333324800  So glad I met coconut oil!  Great medicinal be...   \n",
       "4      1342137600  Roland has always been a product line i could ...   \n",
       "...           ...                                                ...   \n",
       "99995  1236729600  An excellent product that is in a convenient s...   \n",
       "99996  1239667200  Tiny bottles perfect for night feeding! A litt...   \n",
       "99997  1170720000  We enjoy a cup of coffee with Bailey's Irish C...   \n",
       "99998  1280102400  Happy to find this product.  Could not locate ...   \n",
       "99999  1347148800  I've been using Kretschmer Honey Crunch for a ...   \n",
       "\n",
       "                                              clean_text  Score  \n",
       "0      love tea wylers best peach tea instant tea not...      1  \n",
       "1      good price excellent coffee packed perfect les...      1  \n",
       "2      not believe actually paid money stuff gritty t...      0  \n",
       "3      glad met coconut oil great medicinal benefits ...      1  \n",
       "4      roland always product line could trust full in...      1  \n",
       "...                                                  ...    ...  \n",
       "99995  excellent product convenient size provider shi...      1  \n",
       "99996  tiny bottles perfect night feeding little pric...      1  \n",
       "99997  enjoy cup coffee bailey irish cream decided tr...      0  \n",
       "99998  happy find product could not locate grocery st...      1  \n",
       "99999  using kretschmer honey crunch number years fou...      1  \n",
       "\n",
       "[100000 rows x 4 columns]"
      ]
     },
     "execution_count": 34,
     "metadata": {},
     "output_type": "execute_result"
    }
   ],
   "source": [
    "data3"
   ]
  },
  {
   "cell_type": "code",
   "execution_count": 35,
   "id": "bc7c374a",
   "metadata": {},
   "outputs": [
    {
     "data": {
      "text/html": [
       "<div>\n",
       "<style scoped>\n",
       "    .dataframe tbody tr th:only-of-type {\n",
       "        vertical-align: middle;\n",
       "    }\n",
       "\n",
       "    .dataframe tbody tr th {\n",
       "        vertical-align: top;\n",
       "    }\n",
       "\n",
       "    .dataframe thead th {\n",
       "        text-align: right;\n",
       "    }\n",
       "</style>\n",
       "<table border=\"1\" class=\"dataframe\">\n",
       "  <thead>\n",
       "    <tr style=\"text-align: right;\">\n",
       "      <th></th>\n",
       "      <th>Time</th>\n",
       "      <th>Text</th>\n",
       "      <th>clean_text</th>\n",
       "      <th>Score</th>\n",
       "      <th>Stemmed</th>\n",
       "    </tr>\n",
       "  </thead>\n",
       "  <tbody>\n",
       "    <tr>\n",
       "      <th>0</th>\n",
       "      <td>1206835200</td>\n",
       "      <td>I love this tea.  Wylers is the best peach tea...</td>\n",
       "      <td>love tea wylers best peach tea instant tea not...</td>\n",
       "      <td>1</td>\n",
       "      <td>love tea wyler best peach tea instant tea not ...</td>\n",
       "    </tr>\n",
       "    <tr>\n",
       "      <th>1</th>\n",
       "      <td>1339632000</td>\n",
       "      <td>Very good price and excellent coffee.. Packed ...</td>\n",
       "      <td>good price excellent coffee packed perfect les...</td>\n",
       "      <td>1</td>\n",
       "      <td>good price excel coffe pack perfect less cent ...</td>\n",
       "    </tr>\n",
       "    <tr>\n",
       "      <th>2</th>\n",
       "      <td>1250726400</td>\n",
       "      <td>I can't believe I actually paid money for this...</td>\n",
       "      <td>not believe actually paid money stuff gritty t...</td>\n",
       "      <td>0</td>\n",
       "      <td>not believ actual paid money stuff gritti tast...</td>\n",
       "    </tr>\n",
       "    <tr>\n",
       "      <th>3</th>\n",
       "      <td>1333324800</td>\n",
       "      <td>So glad I met coconut oil!  Great medicinal be...</td>\n",
       "      <td>glad met coconut oil great medicinal benefits ...</td>\n",
       "      <td>1</td>\n",
       "      <td>glad met coconut oil great medicin benefit use...</td>\n",
       "    </tr>\n",
       "    <tr>\n",
       "      <th>4</th>\n",
       "      <td>1342137600</td>\n",
       "      <td>Roland has always been a product line i could ...</td>\n",
       "      <td>roland always product line could trust full in...</td>\n",
       "      <td>1</td>\n",
       "      <td>roland alway product line could trust full int...</td>\n",
       "    </tr>\n",
       "  </tbody>\n",
       "</table>\n",
       "</div>"
      ],
      "text/plain": [
       "         Time                                               Text  \\\n",
       "0  1206835200  I love this tea.  Wylers is the best peach tea...   \n",
       "1  1339632000  Very good price and excellent coffee.. Packed ...   \n",
       "2  1250726400  I can't believe I actually paid money for this...   \n",
       "3  1333324800  So glad I met coconut oil!  Great medicinal be...   \n",
       "4  1342137600  Roland has always been a product line i could ...   \n",
       "\n",
       "                                          clean_text  Score  \\\n",
       "0  love tea wylers best peach tea instant tea not...      1   \n",
       "1  good price excellent coffee packed perfect les...      1   \n",
       "2  not believe actually paid money stuff gritty t...      0   \n",
       "3  glad met coconut oil great medicinal benefits ...      1   \n",
       "4  roland always product line could trust full in...      1   \n",
       "\n",
       "                                             Stemmed  \n",
       "0  love tea wyler best peach tea instant tea not ...  \n",
       "1  good price excel coffe pack perfect less cent ...  \n",
       "2  not believ actual paid money stuff gritti tast...  \n",
       "3  glad met coconut oil great medicin benefit use...  \n",
       "4  roland alway product line could trust full int...  "
      ]
     },
     "execution_count": 35,
     "metadata": {},
     "output_type": "execute_result"
    }
   ],
   "source": [
    "#Stemming\n",
    "import pandas as pd\n",
    "from nltk.stem import PorterStemmer\n",
    "\n",
    "# Assuming your DataFrame is named df and has a 'Text' column\n",
    "# You can replace 'df' and 'Text' with your actual DataFrame and column names\n",
    "\n",
    "# Initialize the Porter Stemmer\n",
    "porter_stemmer = PorterStemmer()\n",
    "\n",
    "# Apply stemming to the 'Text' column and create a new column 'Stemmed'\n",
    "data3['Stemmed'] = data3['clean_text'].apply(lambda x: ' '.join(porter_stemmer.stem(word) for word in x.split()))\n",
    "\n",
    "# Display the DataFrame with the new 'Stemmed' column\n",
    "data3.head()"
   ]
  },
  {
   "cell_type": "code",
   "execution_count": 36,
   "id": "e2268c1d",
   "metadata": {},
   "outputs": [
    {
     "data": {
      "text/html": [
       "<div>\n",
       "<style scoped>\n",
       "    .dataframe tbody tr th:only-of-type {\n",
       "        vertical-align: middle;\n",
       "    }\n",
       "\n",
       "    .dataframe tbody tr th {\n",
       "        vertical-align: top;\n",
       "    }\n",
       "\n",
       "    .dataframe thead th {\n",
       "        text-align: right;\n",
       "    }\n",
       "</style>\n",
       "<table border=\"1\" class=\"dataframe\">\n",
       "  <thead>\n",
       "    <tr style=\"text-align: right;\">\n",
       "      <th></th>\n",
       "      <th>Time</th>\n",
       "      <th>Text</th>\n",
       "      <th>clean_text</th>\n",
       "      <th>Score</th>\n",
       "      <th>Stemmed</th>\n",
       "    </tr>\n",
       "  </thead>\n",
       "  <tbody>\n",
       "    <tr>\n",
       "      <th>0</th>\n",
       "      <td>2000-01-09</td>\n",
       "      <td>THIS IS ONE MOVIE THAT SHOULD BE IN YOUR MOVIE...</td>\n",
       "      <td>one movie movie collection filled comedy actio...</td>\n",
       "      <td>1</td>\n",
       "      <td>one movi movi collect fill comedi action whate...</td>\n",
       "    </tr>\n",
       "    <tr>\n",
       "      <th>1</th>\n",
       "      <td>2000-01-19</td>\n",
       "      <td>I, myself always enjoyed this movie, it's very...</td>\n",
       "      <td>always enjoyed movie funny entertaining not he...</td>\n",
       "      <td>0</td>\n",
       "      <td>alway enjoy movi funni entertain not hesit pic...</td>\n",
       "    </tr>\n",
       "    <tr>\n",
       "      <th>2</th>\n",
       "      <td>2000-01-24</td>\n",
       "      <td>I bought a few of these after my apartment was...</td>\n",
       "      <td>bought apartment infested fruit flies hours tr...</td>\n",
       "      <td>1</td>\n",
       "      <td>bought apart infest fruit fli hour trap attrac...</td>\n",
       "    </tr>\n",
       "    <tr>\n",
       "      <th>3</th>\n",
       "      <td>2000-02-26</td>\n",
       "      <td>What happens when you say his name three times...</td>\n",
       "      <td>happens say name three times michael keaten st...</td>\n",
       "      <td>1</td>\n",
       "      <td>happen say name three time michael keaten star...</td>\n",
       "    </tr>\n",
       "    <tr>\n",
       "      <th>4</th>\n",
       "      <td>2000-06-23</td>\n",
       "      <td>This was a really good idea and the final prod...</td>\n",
       "      <td>really good idea final product outstanding use...</td>\n",
       "      <td>1</td>\n",
       "      <td>realli good idea final product outstand use de...</td>\n",
       "    </tr>\n",
       "  </tbody>\n",
       "</table>\n",
       "</div>"
      ],
      "text/plain": [
       "        Time                                               Text  \\\n",
       "0 2000-01-09  THIS IS ONE MOVIE THAT SHOULD BE IN YOUR MOVIE...   \n",
       "1 2000-01-19  I, myself always enjoyed this movie, it's very...   \n",
       "2 2000-01-24  I bought a few of these after my apartment was...   \n",
       "3 2000-02-26  What happens when you say his name three times...   \n",
       "4 2000-06-23  This was a really good idea and the final prod...   \n",
       "\n",
       "                                          clean_text  Score  \\\n",
       "0  one movie movie collection filled comedy actio...      1   \n",
       "1  always enjoyed movie funny entertaining not he...      0   \n",
       "2  bought apartment infested fruit flies hours tr...      1   \n",
       "3  happens say name three times michael keaten st...      1   \n",
       "4  really good idea final product outstanding use...      1   \n",
       "\n",
       "                                             Stemmed  \n",
       "0  one movi movi collect fill comedi action whate...  \n",
       "1  alway enjoy movi funni entertain not hesit pic...  \n",
       "2  bought apart infest fruit fli hour trap attrac...  \n",
       "3  happen say name three time michael keaten star...  \n",
       "4  realli good idea final product outstand use de...  "
      ]
     },
     "execution_count": 36,
     "metadata": {},
     "output_type": "execute_result"
    }
   ],
   "source": [
    "#sortimg based on time\n",
    "data3['Time'] = pd.to_datetime(data3['Time'],unit='s')\n",
    "data3 = data3.sort_values('Time')\n",
    "data3 = data3.reset_index(drop=True)\n",
    "data3.head()"
   ]
  },
  {
   "cell_type": "markdown",
   "id": "a181aae7",
   "metadata": {},
   "source": [
    "# Vectorization(bag of words)"
   ]
  },
  {
   "cell_type": "code",
   "execution_count": 37,
   "id": "8ff202c2",
   "metadata": {},
   "outputs": [],
   "source": [
    "#bag of wordsfrom sklearn.feature_extraction.text import CountVectorizer\n",
    "\n",
    "# count_vect = CountVectorizer(ngram_range=(1,2) ) \n",
    "count_vect = CountVectorizer() \n",
    "final_bow_count = count_vect.fit_transform(data3['Stemmed'].values)"
   ]
  },
  {
   "cell_type": "code",
   "execution_count": 38,
   "id": "aebe22c2",
   "metadata": {},
   "outputs": [
    {
     "name": "stdout",
     "output_type": "stream",
     "text": [
      "  (0, 26392)\t1\n",
      "  (0, 24476)\t2\n",
      "  (0, 7726)\t1\n",
      "  (0, 13542)\t1\n",
      "  (0, 7800)\t1\n",
      "  (0, 311)\t1\n",
      "  (0, 41558)\t1\n",
      "  (0, 11904)\t1\n",
      "  (0, 41157)\t1\n",
      "  (0, 5496)\t1\n",
      "  (1, 24476)\t2\n",
      "  (1, 41157)\t1\n",
      "  (1, 1106)\t1\n",
      "  (1, 12135)\t1\n",
      "  (1, 14847)\t1\n",
      "  (1, 12193)\t1\n",
      "  (1, 25612)\t1\n",
      "  (1, 17378)\t1\n",
      "  (1, 28319)\t1\n",
      "  (1, 7271)\t2\n",
      "  (1, 11697)\t3\n",
      "  (1, 16462)\t1\n",
      "  (1, 22823)\t1\n",
      "  (1, 28568)\t1\n",
      "  (1, 22506)\t1\n",
      "  :\t:\n",
      "  (99998, 26158)\t1\n",
      "  (99998, 26275)\t1\n",
      "  (99998, 11229)\t1\n",
      "  (99999, 35976)\t1\n",
      "  (99999, 21920)\t1\n",
      "  (99999, 42170)\t1\n",
      "  (99999, 22068)\t4\n",
      "  (99999, 16162)\t1\n",
      "  (99999, 12431)\t1\n",
      "  (99999, 41991)\t1\n",
      "  (99999, 22334)\t1\n",
      "  (99999, 13155)\t1\n",
      "  (99999, 37178)\t1\n",
      "  (99999, 24538)\t1\n",
      "  (99999, 31630)\t1\n",
      "  (99999, 3613)\t1\n",
      "  (99999, 35475)\t1\n",
      "  (99999, 7591)\t1\n",
      "  (99999, 3887)\t1\n",
      "  (99999, 31804)\t1\n",
      "  (99999, 8856)\t1\n",
      "  (99999, 3873)\t1\n",
      "  (99999, 21170)\t1\n",
      "  (99999, 2525)\t1\n",
      "  (99999, 10219)\t1\n"
     ]
    }
   ],
   "source": [
    "print(final_bow_count)"
   ]
  },
  {
   "cell_type": "code",
   "execution_count": 39,
   "id": "7ed92579",
   "metadata": {},
   "outputs": [],
   "source": [
    "from sklearn.preprocessing import MaxAbsScaler\n",
    "from sklearn.preprocessing import StandardScaler\n",
    "\n",
    "final_bow_nppp = MaxAbsScaler().fit_transform(final_bow_count )"
   ]
  },
  {
   "cell_type": "code",
   "execution_count": 40,
   "id": "2dcbec78",
   "metadata": {},
   "outputs": [
    {
     "name": "stdout",
     "output_type": "stream",
     "text": [
      "  (0, 311)\t0.5\n",
      "  (0, 5496)\t0.14285714285714285\n",
      "  (0, 7726)\t0.25\n",
      "  (0, 7800)\t0.25\n",
      "  (0, 11904)\t0.25\n",
      "  (0, 13542)\t0.1111111111111111\n",
      "  (0, 24476)\t0.4\n",
      "  (0, 26392)\t0.041666666666666664\n",
      "  (0, 41157)\t0.16666666666666666\n",
      "  (0, 41558)\t0.2\n",
      "  (1, 1106)\t0.2\n",
      "  (1, 2602)\t0.25\n",
      "  (1, 7271)\t1.0\n",
      "  (1, 11697)\t1.0\n",
      "  (1, 11854)\t0.5\n",
      "  (1, 11875)\t0.3333333333333333\n",
      "  (1, 12135)\t0.14285714285714285\n",
      "  (1, 12193)\t0.3333333333333333\n",
      "  (1, 13091)\t0.2\n",
      "  (1, 14847)\t0.5\n",
      "  (1, 16462)\t0.3333333333333333\n",
      "  (1, 17378)\t0.3333333333333333\n",
      "  (1, 22506)\t0.1\n",
      "  (1, 22823)\t0.2\n",
      "  (1, 24476)\t0.4\n",
      "  :\t:\n",
      "  (99998, 38084)\t0.2\n",
      "  (99998, 38256)\t0.1111111111111111\n",
      "  (99998, 38916)\t0.09090909090909091\n",
      "  (99999, 2525)\t0.3333333333333333\n",
      "  (99999, 3613)\t0.1\n",
      "  (99999, 3873)\t0.14285714285714285\n",
      "  (99999, 3887)\t0.14285714285714285\n",
      "  (99999, 7591)\t0.03225806451612903\n",
      "  (99999, 8856)\t0.2\n",
      "  (99999, 10219)\t1.0\n",
      "  (99999, 12431)\t0.08333333333333333\n",
      "  (99999, 13155)\t0.125\n",
      "  (99999, 16162)\t0.14285714285714285\n",
      "  (99999, 21170)\t0.1\n",
      "  (99999, 21920)\t0.14285714285714285\n",
      "  (99999, 22068)\t0.26666666666666666\n",
      "  (99999, 22334)\t0.043478260869565216\n",
      "  (99999, 24538)\t0.14285714285714285\n",
      "  (99999, 31630)\t0.2\n",
      "  (99999, 31804)\t0.07692307692307693\n",
      "  (99999, 35475)\t0.1111111111111111\n",
      "  (99999, 35976)\t0.125\n",
      "  (99999, 37178)\t0.1111111111111111\n",
      "  (99999, 41991)\t0.14285714285714285\n",
      "  (99999, 42170)\t0.09090909090909091\n"
     ]
    }
   ],
   "source": [
    "print(final_bow_nppp)"
   ]
  },
  {
   "cell_type": "code",
   "execution_count": 41,
   "id": "579c4b03",
   "metadata": {},
   "outputs": [],
   "source": [
    "from sklearn.model_selection import train_test_split\n",
    "from sklearn.metrics import accuracy_score, classification_report\n",
    "from sklearn.ensemble import RandomForestClassifier\n",
    "from sklearn.linear_model import LogisticRegression\n",
    "from sklearn.svm import SVC\n",
    "from sklearn import tree\n",
    "from sklearn.tree import DecisionTreeClassifier"
   ]
  },
  {
   "cell_type": "code",
   "execution_count": 42,
   "id": "2df70a6f",
   "metadata": {},
   "outputs": [
    {
     "name": "stdout",
     "output_type": "stream",
     "text": [
      "x_train (70000, 43028)\n",
      "x_test (30000, 43028)\n",
      "y_train (70000,)\n",
      "y_test (30000,)\n"
     ]
    }
   ],
   "source": [
    "#Train-Test-split (standrad scaler)\n",
    "\n",
    "x=final_bow_nppp\n",
    "y=data3['Score']\n",
    "X_train,X_test,y_train,y_test = train_test_split(x,y,test_size=0.3,random_state=100)\n",
    "\n",
    "print('x_train',X_train.shape)\n",
    "print('x_test',X_test.shape)\n",
    "print('y_train',y_train.shape)\n",
    "print('y_test',y_test.shape)"
   ]
  },
  {
   "cell_type": "markdown",
   "id": "a574d756",
   "metadata": {},
   "source": [
    "# RF"
   ]
  },
  {
   "cell_type": "code",
   "execution_count": 45,
   "id": "0e8ad4cb",
   "metadata": {},
   "outputs": [
    {
     "name": "stdout",
     "output_type": "stream",
     "text": [
      "x_train (70000, 43056)\n",
      "x_test (30000, 43056)\n",
      "y_train (70000,)\n",
      "y_test (30000,)\n"
     ]
    }
   ],
   "source": [
    "#Train-Test-split (standrad scaler)\n",
    "\n",
    "x=final_bow_count\n",
    "y=data3['Score']\n",
    "X_train,X_test,y_train,y_test = train_test_split(x,y,test_size=0.3,random_state=100)\n",
    "\n",
    "print('x_train',X_train.shape)\n",
    "print('x_test',X_test.shape)\n",
    "print('y_train',y_train.shape)\n",
    "print('y_test',y_test.shape)"
   ]
  },
  {
   "cell_type": "code",
   "execution_count": 46,
   "id": "691a32ce",
   "metadata": {},
   "outputs": [],
   "source": [
    "rf_model=RandomForestClassifier()"
   ]
  },
  {
   "cell_type": "code",
   "execution_count": 47,
   "id": "469c64fb",
   "metadata": {},
   "outputs": [
    {
     "data": {
      "text/plain": [
       "RandomForestClassifier()"
      ]
     },
     "execution_count": 47,
     "metadata": {},
     "output_type": "execute_result"
    }
   ],
   "source": [
    "rf_model.fit(X_train,y_train)"
   ]
  },
  {
   "cell_type": "code",
   "execution_count": 48,
   "id": "5417fab2",
   "metadata": {},
   "outputs": [],
   "source": [
    "rf_pred=rf_model.predict(X_test)"
   ]
  },
  {
   "cell_type": "code",
   "execution_count": 49,
   "id": "8571e321",
   "metadata": {},
   "outputs": [
    {
     "name": "stdout",
     "output_type": "stream",
     "text": [
      "Random Forest accuracy 0.8751666666666666\n"
     ]
    }
   ],
   "source": [
    "#eveluatemodels\n",
    "rf_accuracy=accuracy_score(y_test,rf_pred)\n",
    "print('Random Forest accuracy', rf_accuracy)"
   ]
  },
  {
   "cell_type": "code",
   "execution_count": null,
   "id": "de37b206",
   "metadata": {},
   "outputs": [],
   "source": [
    "\n",
    "If you want to visualize the average precision, recall, F1-score, and support for the two classes based on the new classification report you provided, you can use the following Python code:\n",
    "\n",
    "python\n",
    "Copy code\n",
    "import matplotlib.pyplot as plt\n",
    "import numpy as np\n",
    "\n",
    "# Values from your classification report\n",
    "accuracy=[0.88,0.8797]\n",
    "precision = [0.95, 0.88]\n",
    "recall = [0.23, 1.00]\n",
    "f1_score = [0.37, 0.93]\n",
    "\n",
    "\n",
    "# Calculate averages\n",
    "avg_precision = np.mean(precision)\n",
    "avg_recall = np.mean(recall)\n",
    "avg_f1_score = np.mean(f1_score)\n",
    "avg_support = np.mean(support)\n",
    "\n",
    "averages = [avg_precision, avg_recall, avg_f1_score, avg_support]\n",
    "\n",
    "metrics = ['Precision', 'Recall', 'F1-Score', 'Support']\n",
    "\n",
    "# Plotting\n",
    "fig, ax = plt.subplots(figsize=(10, 6))\n",
    "\n",
    "bar_width = 0.4\n",
    "index = np.arange(len(metrics))\n",
    "\n",
    "bars = ax.bar(index, averages, bar_width, color='blue', alpha=0.7)\n",
    "\n",
    "ax.set_xlabel('Metrics')\n",
    "ax.set_ylabel('Average Value')\n",
    "ax.set_title('Average Precision, Recall, F1-Score, and Support')\n",
    "ax.set_xticks(index)\n",
    "ax.set_xticklabels(metrics)\n",
    "\n",
    "# Display the values on top of the bars\n",
    "for bar in bars:\n",
    "    yval = bar.get_height()\n",
    "    plt.text(bar.get_x() + bar.get_width() / 2, yval, round(yval, 2), ha='center', va='bottom')\n",
    "\n",
    "plt.show()"
   ]
  }
 ],
 "metadata": {
  "kernelspec": {
   "display_name": "Python [conda env:base] *",
   "language": "python",
   "name": "conda-base-py"
  },
  "language_info": {
   "codemirror_mode": {
    "name": "ipython",
    "version": 3
   },
   "file_extension": ".py",
   "mimetype": "text/x-python",
   "name": "python",
   "nbconvert_exporter": "python",
   "pygments_lexer": "ipython3",
   "version": "3.12.7"
  }
 },
 "nbformat": 4,
 "nbformat_minor": 5
}
